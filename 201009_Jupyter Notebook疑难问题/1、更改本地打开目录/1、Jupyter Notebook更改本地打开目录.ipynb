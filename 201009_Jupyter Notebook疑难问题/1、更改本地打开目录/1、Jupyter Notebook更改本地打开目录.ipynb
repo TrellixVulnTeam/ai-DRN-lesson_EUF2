{
 "cells": [
  {
   "cell_type": "markdown",
   "metadata": {},
   "source": [
    "# <div style=\"color:red;text-align:center;\">Jupyter Notebook更改本地打开目录</div>"
   ]
  },
  {
   "cell_type": "markdown",
   "metadata": {},
   "source": [
    "**博客位置**\n",
    "\n",
    "Jupyter Notebook 更改本地目录\n",
    "\n",
    "https://www.cnblogs.com/Renyi-Fan/p/13205580.html\n"
   ]
  },
  {
   "cell_type": "markdown",
   "metadata": {},
   "source": [
    "### 步骤"
   ]
  },
  {
   "cell_type": "markdown",
   "metadata": {},
   "source": [
    "    1.打开 cmd 输入命令 jupyter notebook --generate-config\n",
    "    2.找到C:\\Users\\Administrator\\.jupyter 中的文件 jupyter_notebook_config.py\n",
    "    3.用记事本打开找到# The directory to use for notebooks and kernels.\n",
    "    c.NotebookApp.notebook_dir = （目录）注意将#号删除\n",
    "\n",
    "将其修改为"
   ]
  },
  {
   "cell_type": "markdown",
   "metadata": {},
   "source": [
    "![11.png](11.png)"
   ]
  },
  {
   "cell_type": "markdown",
   "metadata": {},
   "source": [
    "\n",
    "<div style=\"color:red;\">在jupyter_notebook_config.py中修改c.NotebookApp.notebook_dir后，在anaconda prompt中直接输入jupyter notebook，就打开的设置好的目录位置</div>"
   ]
  },
  {
   "cell_type": "code",
   "execution_count": null,
   "metadata": {},
   "outputs": [],
   "source": []
  }
 ],
 "metadata": {
  "kernelspec": {
   "display_name": "Python 3",
   "language": "python",
   "name": "python3"
  },
  "language_info": {
   "codemirror_mode": {
    "name": "ipython",
    "version": 3
   },
   "file_extension": ".py",
   "mimetype": "text/x-python",
   "name": "python",
   "nbconvert_exporter": "python",
   "pygments_lexer": "ipython3",
   "version": "3.7.6"
  }
 },
 "nbformat": 4,
 "nbformat_minor": 4
}
