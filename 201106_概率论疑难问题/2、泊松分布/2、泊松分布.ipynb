{
 "cells": [
  {
   "cell_type": "markdown",
   "metadata": {},
   "source": [
    "# <div style=\"color:red;text-align:center;\">泊松分布</div>"
   ]
  },
  {
   "cell_type": "markdown",
   "metadata": {},
   "source": [
    "### 1、卖包子\n",
    "\n",
    "给大家讲讲我爸爸职业的故事。\n",
    "\n",
    "做木匠->开车->卖包子->卖包子->卖鸭脖子->去卖炒饭->开小牌馆\n"
   ]
  },
  {
   "cell_type": "markdown",
   "metadata": {},
   "source": [
    "![11.jpg](11.jpg)"
   ]
  },
  {
   "cell_type": "markdown",
   "metadata": {},
   "source": [
    "每天早上六点到十点营业，生意挺好，就是发愁一个事情，应该准备多少个包子才能既不浪费又能充分供应？\n",
    "\n",
    "老板统计了周一到周五每日卖出的包子（为了方便计算和讲解，缩小了数据）：\n",
    "\n",
    "![22.png](22.png)\n",
    "\n",
    "均值为：$$\\overline { X } = \\frac { 3 + 7 + 4 + 6 + 5 } { 5 } = 5$$\n",
    "\n",
    "按道理讲均值是不错的选择，这样每天包子个数的偏离不会太大，但是如果每天准备5个包子的话，从统计表来看，至少有两天不够卖，40\\%的时间不够卖：\n",
    "\n",
    "![33.png](33.png)\n",
    "\n",
    "你家的“包子店”又不是小米，搞什么饥饿营销啊？老板当然也知道这一点，就拿起纸笔来开始思考。\n"
   ]
  },
  {
   "cell_type": "markdown",
   "metadata": {},
   "source": [
    "### 2、老板的思考\n",
    "\n",
    "老板尝试把营业时间抽象为一根线段，把这段时间用T来表示：\n",
    "\n",
    "![44.png](44.png)\n",
    "\n",
    "然后把**周一**的三个包子按照销售时间放在线段上：\n",
    "\n",
    "![55.png](55.png)\n",
    "\n",
    "把T均分为四个时间段：\n",
    "\n",
    "![66.png](66.png)\n",
    "\n",
    "此时，在每一个时间段上，要不卖出了（一个）包子，要不没有卖出：\n",
    "\n",
    "![77.png](77.png)\n",
    "\n",
    "在每个时间段，就有点像抛硬币，要不是正面（卖出），要不是反面（没有卖出）：\n",
    "\n",
    "T内那么卖出3个包子的概率，就和抛了4次硬币（4个时间段），其中3次正面（卖出3个）的概率一样了。\n",
    "\n",
    "这样的概率通过二项分布来计算就是：\n",
    "\n",
    "$$\\left( \\begin{array} { l } { 4 } \\\\ { 3 } \\end{array} \\right) p ^ { 3 } ( 1 - p ) ^ { 1 }$$\n",
    "\n",
    "----------\n",
    "二项分布用符号b(x．n．p)，表示在n次试验中有x次成功，成功的概率为p。\n",
    "\n",
    "二项分布的概率函数可写作：\n",
    "$$b ( x . n . p ) = C _ { n } ^ { x } p ^ { x } (1-p) ^ { n - x }$$\n",
    "\n",
    "式中x＝0、1、2、3．．．．．n为正整数\n",
    "$$C _ { n } ^ { x } = \\frac { n ! } { x ! ( n - x ) ! }$$\n",
    "\n",
    "----------\n",
    "\n",
    "但是，如果把**周二**的七个包子放在线段上，分成四段就不够了：\n",
    "\n",
    "![88.png](88.png)\n",
    "\n",
    "从图中看，每个时间段，有卖出3个的，有卖出2个的，有卖出1个的，就不再是单纯的“卖出、没卖出”了。不能套用二项分布了。\n",
    "\n",
    "解决这个问题也很简单，把T分为20个时间段，那么每个时间段就又变为了抛硬币：\n",
    "\n",
    "![99.png](99.png)\n",
    "\n",
    "这样，T内卖出7个包子的概率就是（相当于抛了20次硬币，出现7次正面）：\n",
    "\n",
    "$$\\left( \\begin{array} { c } { 20 } \\\\ { 7 } \\end{array} \\right) p ^ { 7 } ( 1 - p ) ^ { 13 }$$\n",
    "\n",
    "为了保证在一个时间段内只会发生“卖出、没卖出”，干脆把时间切成n份：\n",
    "\n",
    "$$\\left( \\begin{array} { l } { n } \\\\ { 7 } \\end{array} \\right) p ^ { 7 } ( 1 - p ) ^ { n - 7 }$$\n",
    "\n",
    "越细越好，用极限来表示：\n",
    "\n",
    "$$\\lim _ { n \\rightarrow \\infty } \\left( \\begin{array} { c } { n } \\\\ { 7 } \\end{array} \\right) p ^ { 7 } ( 1 - p ) ^ { n - 7 }$$\n",
    "\n",
    "更抽象一点，T时刻内卖出k个包子的概率为：\n",
    "\n",
    "$$\\lim _ { n \\rightarrow \\infty } \\left( \\begin{array} { l } { n } \\\\ { k } \\end{array} \\right) p ^ { k } ( 1 - p ) ^ { n - k }$$\n",
    "\n"
   ]
  },
  {
   "cell_type": "markdown",
   "metadata": {},
   "source": [
    "### 3、p的计算\n",
    "\n",
    "“那么”，老板用笔敲了敲桌子，“只剩下一个问题，概率p怎么求？”\n",
    "\n",
    "在上面的假设下，问题已经被转为了二项分布。二项分布的期望为：\n",
    "\n",
    "$$E ( X ) = n p = \\mu$$\n",
    "\n",
    "那么：\n",
    "\n",
    "$$p = \\frac { \\mu } { n }$$\n"
   ]
  },
  {
   "cell_type": "markdown",
   "metadata": {},
   "source": [
    "### 4、泊松分布\n",
    "\n",
    "有了p=μ/n了之后，就有：\n",
    "\n",
    "$$\\lim _ { n \\rightarrow \\infty } \\left( \\begin{array} { l } { n } \\\\ { k } \\end{array} \\right) p ^ { k } ( 1 - p ) ^ { n - k } = \\lim _ { n \\rightarrow \\infty } \\left( \\begin{array} { l } { n } \\\\ { k } \\end{array} \\right) (\\frac { \\mu } { n } )^ { k }( 1 - \\frac { \\mu } { n } ) ^ { n - k }$$\n",
    "\n",
    "我们来算一下这个极限：\n",
    "\n",
    "$$\\lim _ { n \\rightarrow \\infty } \\left( \\begin{array} { l } { n } \\\\ { k } \\end{array} \\right) (\\frac { \\mu } { n })^{k} ( 1 - \\frac { \\mu } { n } ) ^ { n - k } = \\lim _ { n \\rightarrow \\infty } \\frac { n ( n - 1 ) ( n - 2 ) \\cdots ( n - k + 1 ) } { k ! } \\frac { \\mu ^ { k } } { n ^ { k } } ( 1 - \\frac { \\mu } { n } ) ^ { n - k } = \\lim _ { n \\rightarrow \\infty } \\frac { \\mu ^ { k } } { k ! } \\frac { n } { n } \\cdot \\frac { n - 1 } { n } \\cdots \\frac { n - k + 1 } { n } ( 1 - \\frac { \\mu } { n } ) ^ { - k } ( 1 - \\frac { \\mu } { n } ) ^ { n }$$\n",
    "\n",
    "其中：\n",
    "\n",
    "$$\\lim _ { n \\rightarrow \\infty } \\frac { n } { n } \\cdot \\frac { n - 1 } { n } \\cdots \\frac { n - k + 1 } { n } ( 1 - \\frac { \\mu } { n } ) ^ { - k } = 1$$\n",
    "$$\\lim _ { n \\rightarrow \\infty } ( 1 - \\frac { \\mu } { n } ) ^ { n } = e ^ { - \\mu }$$\n",
    "\n",
    "所以：\n",
    "$$\\lim _ { n \\rightarrow \\infty } \\left( \\begin{array} { l } { n } \\\\ { k } \\end{array} \\right) \\frac { \\mu } { n } ( 1 - \\frac { \\mu } { n } ) ^ { n - k } = \\frac { \\mu ^ { k } } { k ! } e ^ { - \\mu }$$\n",
    "\n",
    "上面就是泊松分布的概率密度函数，也就是说，在T时间内卖出k个包子的概率为：\n",
    "\n",
    "$$P ( X = k ) = \\frac { \\mu ^ { k } } { k ! } e ^ { - \\mu }$$\n",
    "\n",
    "一般来说，我们会换一个符号，让μ=λ，所以：\n",
    "\n",
    "$$P ( X = k ) = \\frac { \\lambda ^ { k } } { k ! } e ^ { - \\lambda }$$\n",
    "\n",
    "这就是教科书中的泊松分布的概率密度函数。"
   ]
  },
  {
   "cell_type": "markdown",
   "metadata": {},
   "source": [
    "### 5、包子店的问题的解决\n",
    "\n",
    "老板依然蹙眉，不知道μ啊？\n",
    "\n",
    "没关系，刚才不是计算了样本均值：\n",
    "\n",
    "$$\\overline { X } = 5$$\n",
    "\n",
    "可以用它来近似：\n",
    "\n",
    "$$\\overline { X } \\approx \\mu$$\n",
    "\n",
    "于是：\n",
    "\n",
    "$$P ( X = k ) = \\frac { 5 ^ { k } } { k ! } e ^ { - 5 }$$\n",
    "\n",
    "画出概率质量函数的曲线就是：\n",
    "\n",
    "![1010.png](1010.png)\n",
    "\n",
    "可以看到，如果每天准备8个包子的话，那么足够卖的概率就是把前9个的概率加起来：\n",
    "\n",
    "![1111.png](1111.png)\n",
    "\n",
    "这样93%的情况够用，偶尔卖缺货也有助于品牌形象。\n",
    "\n",
    "老板算出一脑门的汗，“那就这么定了！”"
   ]
  },
  {
   "cell_type": "markdown",
   "metadata": {},
   "source": [
    "### 6、总结\n",
    "\n",
    "这个故事告诉我们，要努力学习啊，要不以后卖包子都卖不过别人。\n",
    "\n",
    "生活中还有很多泊松分布。比如物理中的半衰期，我们只知道物质衰变一半的时间期望是多少，但是因为不确定性原理（这个理论是说，你不可能同时知道一个粒子的位置和它的速度），我们没有办法知道具体哪个原子会在什么时候衰变？所以可以用泊松分布来计算。\n",
    "\n",
    "还有比如交通规划等等问题。\n",
    "\n",
    "资料来源：https://www.matongxue.com/madocs/858/"
   ]
  },
  {
   "cell_type": "code",
   "execution_count": null,
   "metadata": {},
   "outputs": [],
   "source": []
  }
 ],
 "metadata": {
  "kernelspec": {
   "display_name": "Python 3",
   "language": "python",
   "name": "python3"
  },
  "language_info": {
   "codemirror_mode": {
    "name": "ipython",
    "version": 3
   },
   "file_extension": ".py",
   "mimetype": "text/x-python",
   "name": "python",
   "nbconvert_exporter": "python",
   "pygments_lexer": "ipython3",
   "version": "3.7.6"
  }
 },
 "nbformat": 4,
 "nbformat_minor": 4
}
